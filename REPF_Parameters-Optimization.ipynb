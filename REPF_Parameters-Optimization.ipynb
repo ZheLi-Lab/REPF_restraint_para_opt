{
 "cells": [
  {
   "cell_type": "markdown",
   "id": "41108dc3",
   "metadata": {},
   "source": [
    "# Import the necessary packages"
   ]
  },
  {
   "cell_type": "code",
   "execution_count": 1,
   "id": "dcbe5e44",
   "metadata": {},
   "outputs": [
    {
     "name": "stdout",
     "output_type": "stream",
     "text": [
      "Here is Restraints_Select module.\n"
     ]
    }
   ],
   "source": [
    "from REPF_para_opti import REPF_para_opti"
   ]
  },
  {
   "cell_type": "markdown",
   "id": "f56f76f2",
   "metadata": {},
   "source": [
    "# Preparation of input files.\n",
    "- Define the name of the input file for plumed reading (for candidate restraint parameters measurement), the name of the plumed output file (recording the restraint atoms and parameters).\n",
    "- the plumed output file contains numerical records of the distances, angles, and dihedral parameters of the restraint atoms."
   ]
  },
  {
   "cell_type": "code",
   "execution_count": 2,
   "id": "de7e016c",
   "metadata": {},
   "outputs": [],
   "source": [
    "plumed_input_file = 'plumed.dat'\n",
    "plumed_output_file = 'Colvar' # will be generated after preliminary MD simulation"
   ]
  },
  {
   "cell_type": "markdown",
   "id": "efdbdf61",
   "metadata": {},
   "source": [
    "- check the plumed input file's content: determines whether the input file is a set of restrained six atoms artificially provided.\n",
    "- Users can specify restraint atoms by modifying the \"plumed.dat\" file.The Clovar also needs to match."
   ]
  },
  {
   "cell_type": "code",
   "execution_count": 3,
   "id": "d550fd41",
   "metadata": {},
   "outputs": [
    {
     "data": {
      "text/markdown": [
       "r_0: DISTANCE ATOMS=3358,660\n",
       "thetaA_0: ANGLE ATOMS=3358,660,667\n",
       "thetaB_0: ANGLE ATOMS=3357,3358,660\n",
       "phiA_0: TORSION ATOMS=669,667,660,3358\n",
       "phiB_0: TORSION ATOMS=667,660,3358,3357\n",
       "phiC_0: TORSION ATOMS=660,3358,3357,3355\n",
       "PRINT ARG=r_0,thetaA_0,thetaB_0,phiA_0,phiB_0,phiC_0, FILE=Colvar STRIDE=100\n",
       "FLUSH STRIDE=100\n"
      ],
      "text/plain": [
       "<IPython.core.display.Markdown object>"
      ]
     },
     "metadata": {},
     "output_type": "display_data"
    }
   ],
   "source": [
    "import os\n",
    "from IPython.display import Markdown, display\n",
    "file_path = \"plumed.dat\"\n",
    "with open(file_path, \"r\") as file:\n",
    "    contents = file.readlines()\n",
    "display(Markdown(''.join(contents)))\n"
   ]
  },
  {
   "cell_type": "markdown",
   "id": "493ad122",
   "metadata": {},
   "source": [
    "- The instantiation of the restraint selection object or restraint specification object."
   ]
  },
  {
   "cell_type": "code",
   "execution_count": 4,
   "id": "e173ea2e",
   "metadata": {},
   "outputs": [],
   "source": [
    "para_opti=REPF_para_opti()"
   ]
  },
  {
   "cell_type": "markdown",
   "id": "e19f3341",
   "metadata": {},
   "source": [
    "# REPF_Parameters-Optimization\n",
    "-The function takes 7 parameters\n",
    "- The **plumed input file** could be used with Gromacs or OpenMM simulation program. After running the preliminary MD simulation, we can get the **plumed output file**, \"Colvar\", which can be used for the further analysis and determining the best restrained degrees of freedom. "
   ]
  },
  {
   "cell_type": "code",
   "execution_count": 5,
   "id": "a60da711",
   "metadata": {
    "scrolled": false
   },
   "outputs": [
    {
     "name": "stdout",
     "output_type": "stream",
     "text": [
      "[[3358, 3357, 3355, 660, 667, 669]]\n",
      "1\n",
      "Number of the restraint group: 1\n",
      "Optimization terminated successfully.\n",
      "         Current function value: 0.020262\n",
      "         Iterations: 12\n",
      "         Function evaluations: 24\n",
      "plsq_collect:\n",
      "(array([1.26979731]), 0.020262268121455002, 12, 24, 0)\n",
      "Optimization terminated successfully.\n",
      "         Current function value: 0.020262\n",
      "         Iterations: 12\n",
      "         Function evaluations: 24\n",
      "plsq_collect:\n",
      "(array([1.26979731]), 0.020262268121455002, 12, 24, 0)\n",
      "Optimization terminated successfully.\n",
      "         Current function value: 0.020262\n",
      "         Iterations: 12\n",
      "         Function evaluations: 24\n",
      "plsq_collect:\n",
      "(array([1.26979731]), 0.020262257625587372, 12, 24, 0)\n",
      "Optimization terminated successfully.\n",
      "         Current function value: 0.020262\n",
      "         Iterations: 12\n",
      "         Function evaluations: 24\n",
      "plsq_collect:\n",
      "(array([1.26979731]), 0.020262268121455002, 12, 24, 0)\n",
      "Optimization terminated successfully.\n",
      "         Current function value: 0.020262\n",
      "         Iterations: 12\n",
      "         Function evaluations: 24\n",
      "plsq_collect:\n",
      "(array([1.26979731]), 0.020262319940767118, 12, 24, 0)\n",
      "Optimization terminated successfully.\n",
      "         Current function value: 0.020262\n",
      "         Iterations: 12\n",
      "         Function evaluations: 24\n",
      "plsq_collect:\n",
      "(array([1.26979731]), 0.020262268121455002, 12, 24, 0)\n",
      "Optimization terminated successfully.\n",
      "         Current function value: 0.020262\n",
      "         Iterations: 12\n",
      "         Function evaluations: 24\n",
      "plsq_collect:\n",
      "(array([1.26979731]), 0.020262268121455002, 12, 24, 0)\n",
      "Optimization terminated successfully.\n",
      "         Current function value: 8.774637\n",
      "         Iterations: 9\n",
      "         Function evaluations: 18\n",
      "plsq_collect:\n",
      "(array([0.07779075]), 8.774636833389527, 9, 18, 0)\n",
      "Optimization terminated successfully.\n",
      "         Current function value: 8.774637\n",
      "         Iterations: 9\n",
      "         Function evaluations: 18\n",
      "plsq_collect:\n",
      "(array([0.07779075]), 8.774636833389527, 9, 18, 0)\n",
      "Optimization terminated successfully.\n",
      "         Current function value: 8.774637\n",
      "         Iterations: 9\n",
      "         Function evaluations: 18\n",
      "plsq_collect:\n",
      "(array([0.07779075]), 8.774636833389527, 9, 18, 0)\n",
      "Optimization terminated successfully.\n",
      "         Current function value: 8.774637\n",
      "         Iterations: 9\n",
      "         Function evaluations: 18\n",
      "plsq_collect:\n",
      "(array([0.07779075]), 8.774636833389527, 9, 18, 0)\n",
      "Optimization terminated successfully.\n",
      "         Current function value: 8.774637\n",
      "         Iterations: 9\n",
      "         Function evaluations: 18\n",
      "plsq_collect:\n",
      "(array([0.07779075]), 8.774636833389527, 9, 18, 0)\n",
      "Optimization terminated successfully.\n",
      "         Current function value: 8.774637\n",
      "         Iterations: 9\n",
      "         Function evaluations: 18\n",
      "plsq_collect:\n",
      "(array([0.07779075]), 8.774636833389527, 9, 18, 0)\n",
      "Optimization terminated successfully.\n",
      "         Current function value: 8.774637\n",
      "         Iterations: 9\n",
      "         Function evaluations: 18\n",
      "plsq_collect:\n",
      "(array([0.07779075]), 8.774636833389527, 9, 18, 0)\n",
      "Optimization terminated successfully.\n",
      "         Current function value: 0.014669\n",
      "         Iterations: 12\n",
      "         Function evaluations: 24\n",
      "plsq_collect:\n",
      "(array([1.21136648]), 0.014669222749200333, 12, 24, 0)\n",
      "Optimization terminated successfully.\n",
      "         Current function value: 0.014669\n",
      "         Iterations: 12\n",
      "         Function evaluations: 24\n",
      "plsq_collect:\n",
      "(array([1.21136648]), 0.014669222749200333, 12, 24, 0)\n",
      "Optimization terminated successfully.\n",
      "         Current function value: 0.014669\n",
      "         Iterations: 12\n",
      "         Function evaluations: 24\n",
      "plsq_collect:\n",
      "(array([1.21136648]), 0.014669222749200333, 12, 24, 0)\n",
      "Optimization terminated successfully.\n",
      "         Current function value: 0.014669\n",
      "         Iterations: 12\n",
      "         Function evaluations: 24\n",
      "plsq_collect:\n",
      "(array([1.21136648]), 0.014669222749200333, 12, 24, 0)\n",
      "Optimization terminated successfully.\n",
      "         Current function value: 0.014669\n",
      "         Iterations: 12\n",
      "         Function evaluations: 24\n",
      "plsq_collect:\n",
      "(array([1.21136648]), 0.014669222749200333, 12, 24, 0)\n",
      "Optimization terminated successfully.\n",
      "         Current function value: 0.014669\n",
      "         Iterations: 12\n",
      "         Function evaluations: 24\n",
      "plsq_collect:\n",
      "(array([1.21136648]), 0.014669222749200333, 12, 24, 0)\n",
      "Optimization terminated successfully.\n",
      "         Current function value: 0.014669\n",
      "         Iterations: 12\n",
      "         Function evaluations: 24\n",
      "plsq_collect:\n",
      "(array([1.21136648]), 0.014669222749200333, 12, 24, 0)\n",
      "use RED_E_cost for the eq value\n",
      "Calculating the restraints energy and fitting the delta U distribution cost: 3.675724300032016 seconds.\n",
      "The serial number is 1.\n",
      "best fit: b_guess_by_mean: 1.1069914547588637, b_guess_by_max: 1.4671549366325254, fitted_b: 1.2113664791309031\n",
      "Best restraint scheme is following: rec_atoms:[668, 666, 659](started from 0), lig_atoms:[3357, 3356, 3354](started from 0), r:5.797172466666666, theta1:1.9707117758981565, theta2:0.9378565543999999, phi1:-2.2758338277698207, phi2:2.8428033988810277, phi3:0.5921863020000004\n"
     ]
    }
   ],
   "source": [
    "res_parm=para_opti.rest_para_opti(plumed_input_file,plumed_output_file)"
   ]
  },
  {
   "cell_type": "markdown",
   "id": "f3534416",
   "metadata": {},
   "source": [
    "- Show the final optimal restraint paramters"
   ]
  },
  {
   "cell_type": "code",
   "execution_count": 6,
   "id": "8c20652d",
   "metadata": {
    "scrolled": true
   },
   "outputs": [
    {
     "name": "stdout",
     "output_type": "stream",
     "text": [
      "rec_atoms:[668, 666, 659], lig_atoms:[3357, 3356, 3354], r:5.797172466666666 A, theta1:1.9707117758981565 rad, theta2:0.9378565543999999 rad, phi1:-2.2758338277698207 rad, phi2:2.8428033988810277 rad, phi3:0.5921863020000004 rad, kbond:10 kcal/mol/A^2, K_theta1:10 kcal/mol/rad^2, self.K_theta2:10 kcal/mol/rad^2, self.K_phi1:10 kcal/mol/rad^2, self.K_phi2:10 kcal/mol/rad^2, self.K_phi3:10 kcal/mol/rad^2\n"
     ]
    }
   ],
   "source": [
    "print(res_parm)"
   ]
  }
 ],
 "metadata": {
  "kernelspec": {
   "display_name": "base",
   "language": "python",
   "name": "python3"
  },
  "language_info": {
   "codemirror_mode": {
    "name": "ipython",
    "version": 3
   },
   "file_extension": ".py",
   "mimetype": "text/x-python",
   "name": "python",
   "nbconvert_exporter": "python",
   "pygments_lexer": "ipython3",
   "version": "3.11.5"
  }
 },
 "nbformat": 4,
 "nbformat_minor": 5
}
