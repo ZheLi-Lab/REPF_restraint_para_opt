{
 "cells": [
  {
   "cell_type": "markdown",
   "id": "41108dc3",
   "metadata": {},
   "source": [
    "# Import the necessary packages"
   ]
  },
  {
   "cell_type": "code",
   "execution_count": null,
   "id": "7709e559",
   "metadata": {
    "scrolled": false
   },
   "outputs": [],
   "source": [
    "from utils.Restraints_Select import Res_atom_select, RestraintParam"
   ]
  },
  {
   "cell_type": "markdown",
   "id": "6ef83ffa",
   "metadata": {},
   "source": [
    "# Restraint atoms generation\n",
    "- Define the coordinate file and topology file: the current version of program only support the coordinate file with suffix of \"rst7\", and the topology with suffix of \"prmtop\"."
   ]
  },
  {
   "cell_type": "code",
   "execution_count": null,
   "id": "dcbe5e44",
   "metadata": {},
   "outputs": [],
   "source": [
    "complex_coor = './example/protein.rst7'\n",
    "complex_topo = './example/protein.prmtop'"
   ]
  },
  {
   "cell_type": "markdown",
   "id": "f56f76f2",
   "metadata": {},
   "source": [
    "- Define the name of the input file for plumed reading (for candidate restraint parameters measurement), the name of the plumed output file (recording the restraint atoms and parameters) and the frequency of plumed recording during the preliminary simulation."
   ]
  },
  {
   "cell_type": "code",
   "execution_count": null,
   "id": "94b4596e",
   "metadata": {},
   "outputs": [],
   "source": [
    "plumed_input_file_4_pre_md = 'plumed.dat'\n",
    "plumed_output_file_4_pre_md = 'Colvar' # will be generated after preliminary MD simulation\n",
    "plumed_record_freq_4_pre_md = 100 "
   ]
  },
  {
   "cell_type": "markdown",
   "id": "493ad122",
   "metadata": {},
   "source": [
    "- The instantiation of the restraint selection object or restraint specification object."
   ]
  },
  {
   "cell_type": "code",
   "execution_count": null,
   "id": "e173ea2e",
   "metadata": {},
   "outputs": [],
   "source": [
    "Restr_test = Res_atom_select(complex_coor, complex_topo, plumed_input_file_4_pre_md, plumed_output_file_4_pre_md, plumed_record_freq_4_pre_md )"
   ]
  },
  {
   "cell_type": "markdown",
   "id": "e19f3341",
   "metadata": {},
   "source": [
    "- The parameter of \"Multiple \" represents artificially providing six atoms and keeps atoms the same. Users need to provide a restraint atom list file in the current execution path, with the  default filename \"restraint-atoms-group\". The file contain a nested list with a single restraint atom group, such as [[lig1, lig2, lig3, rec1, rec2, rec3]].\n",
    "- The generation of related plumed input file."
   ]
  },
  {
   "cell_type": "code",
   "execution_count": null,
   "id": "a60da711",
   "metadata": {
    "scrolled": false
   },
   "outputs": [],
   "source": [
    "ligname = 'MOL'# the residue name of the ligand \n",
    "Restr_test.get_restr_plumed_input(ligname, False , 'Multiple')#'Multiple',restrained choice strategy and  appointed restraint six atoms. "
   ]
  },
  {
   "cell_type": "markdown",
   "id": "d373f390",
   "metadata": {},
   "source": [
    "- check the plumed input file's content: determines whether the input file is a set of restrained six atoms artificially provided.\n"
   ]
  },
  {
   "cell_type": "code",
   "execution_count": null,
   "id": "2a95cf37",
   "metadata": {},
   "outputs": [],
   "source": [
    "import os\n",
    "from IPython.display import Markdown, display\n",
    "file_path = \"plumed.dat\"\n",
    "with open(file_path, \"r\") as file:\n",
    "    contents = file.readlines()\n",
    "display(Markdown(''.join(contents)))"
   ]
  },
  {
   "cell_type": "markdown",
   "id": "9858131b",
   "metadata": {},
   "source": [
    "# REPF_Parameters-Optimization\n",
    "-The function takes 7 parameters\n",
    "- The **plumed input file** could be used with Gromacs or OpenMM simulation program. After running the preliminary MD simulation, we can get the **plumed output file**, \"Colvar\", which can be used for the further analysis and determining the best restrained degrees of freedom. "
   ]
  },
  {
   "cell_type": "code",
   "execution_count": null,
   "id": "8c20652d",
   "metadata": {
    "scrolled": true
   },
   "outputs": [],
   "source": [
    "import json\n",
    "lambdas_group = json.load(open(\"lambdas.json\"))['lambda_com_32normal']\n",
    "fake_state_xml='state_s0.xml' # for skipping the first state simulation in alchemical simulation.\n",
    "first_state_csv='state_s0.csv' # for restraint free energy calculation\n",
    "preliminary_MD_steps = 1000000\n",
    "time_step = 2,# in unit of fs\n",
    "opt_cost_name='RED_E_cost',#whether to adopt this optimization method for restraint parameters optimization.\n",
    "if_mean=False ,#whether to use the mean value of parameters as equilibrium value.\n",
    "if_init_pose=False #whether to use the initial conformation as equilibrium value,the default is False.\n",
    "res_parm = Restr_test.aly_traj_get_best_rest(lambdas_group, fake_state_xml, first_state_csv, 1000000,4,opt_cost_name='RED_E_cost' , if_mean=False,if_init_pose=False )\n",
    "best_res_data_obj = Restr_test.best_res_Data_obj"
   ]
  },
  {
   "cell_type": "markdown",
   "id": "b6d3ca72",
   "metadata": {},
   "source": [
    "- Show the final optimal restraint paramters"
   ]
  },
  {
   "cell_type": "code",
   "execution_count": null,
   "id": "18a7945c",
   "metadata": {},
   "outputs": [],
   "source": [
    "print(res_parm)"
   ]
  }
 ],
 "metadata": {
  "kernelspec": {
   "display_name": "openmm-plumed",
   "language": "python",
   "name": "openmm-plumed"
  },
  "language_info": {
   "codemirror_mode": {
    "name": "ipython",
    "version": 3
   },
   "file_extension": ".py",
   "mimetype": "text/x-python",
   "name": "python",
   "nbconvert_exporter": "python",
   "pygments_lexer": "ipython3",
   "version": "3.9.13"
  }
 },
 "nbformat": 4,
 "nbformat_minor": 5
}
