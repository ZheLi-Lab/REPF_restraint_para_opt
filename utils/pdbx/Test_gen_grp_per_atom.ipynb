{
 "cells": [
  {
   "cell_type": "code",
   "execution_count": 43,
   "id": "b4cafef0",
   "metadata": {},
   "outputs": [],
   "source": [
    "import parmed as pmd\n",
    "from pdbx_parser import *\n",
    "import numpy as np\n",
    "import copy"
   ]
  },
  {
   "cell_type": "code",
   "execution_count": 2,
   "id": "310bac45",
   "metadata": {},
   "outputs": [],
   "source": [
    "def calculate_distance(x1, y1, z1, x2, y2, z2):\n",
    "    # 计算距离的公式为欧氏距离\n",
    "    distance = np.sqrt((x2 - x1)**2 + (y2 - y1)**2 + (z2 - z1)**2)\n",
    "    return distance"
   ]
  },
  {
   "cell_type": "code",
   "execution_count": 3,
   "id": "1913239b",
   "metadata": {},
   "outputs": [],
   "source": [
    "class Mol():\n",
    "    def __init__(self, data):\n",
    "        self.data = data\n",
    "    \n",
    "    def __getitem__(self, index):\n",
    "        return self.data[index]\n",
    "    \n",
    "    def __setiterm__(self, index, value):\n",
    "        self.data[index] = value\n",
    "        \n",
    "    def __len__(self):\n",
    "        return len(self.data)"
   ]
  },
  {
   "cell_type": "code",
   "execution_count": 44,
   "id": "cd11c438",
   "metadata": {},
   "outputs": [],
   "source": [
    "class Gener_Atom():\n",
    "    def __init__(self, pdbx_atom, parmed_atom, ref_dist=None):\n",
    "        self.pdbx_atom = pdbx_atom\n",
    "        self.parmed_atom = parmed_atom\n",
    "        self.ref_dist = ref_dist\n",
    "        \n",
    "        self.pdbx_atomid = self.pdbx_atom.atomid\n",
    "        self.parmed_atomidx = self.parmed_atom.idx\n",
    "        self.pdbx_parmed_idx_gap = self.pdbx_atomid - self.parmed_atomidx\n",
    "\n",
    "        self.bonded_H_parmed_atm = [ i for i in self.parmed_atom.bond_partners if i.element_name == 'H']\n",
    "        self.bonded_H_parmed_idx = [ i.idx for i in self.bonded_H_parmed_atm ]\n",
    "        self.bonded_H_pdbx_id = [i.idx+self.pdbx_parmed_idx_gap for i in self.bonded_H_parmed_atm]\n",
    "\n",
    "        self.heavy_atom_and_H_parmed_idx = copy.deepcopy(self.bonded_H_parmed_idx)\n",
    "        self.heavy_atom_and_H_parmed_idx.append(self.parmed_atomidx)\n",
    "        self.heavy_atom_and_H_pdbx_id = copy.deepcopy(self.bonded_H_pdbx_id)\n",
    "        self.heavy_atom_and_H_pdbx_id.append(self.pdbx_atomid)\n",
    "\n",
    "        "
   ]
  },
  {
   "cell_type": "code",
   "execution_count": 45,
   "id": "895815e4",
   "metadata": {},
   "outputs": [],
   "source": [
    "class Group_generator():\n",
    "    def __init__(self, top_file, xyz_file, pdbx_file):\n",
    "        self.top_file = top_file\n",
    "        self.xyz_file = xyz_file\n",
    "        self.pdbx = PdbxParser(pdbx_file)\n",
    "        self.parm = pmd.load_file(top_file, xyz=xyz_file)\n",
    "        self.pdbx_start_idx = self.pdbx.atoms_list[0].atomid\n",
    "        self.group_dict = {}\n",
    "        self.gen_Mol_obj()\n",
    "        \n",
    "\n",
    "    def gen_Mol_obj(self,):\n",
    "        atom_data = []\n",
    "        for pdbx_atom in self.pdbx.atoms_list:\n",
    "            parmed_atom = self.parm.atoms[pdbx_atom.atomid-self.pdbx_start_idx]\n",
    "            one_gener_atom = Gener_Atom(pdbx_atom, parmed_atom)\n",
    "            atom_data.append(one_gener_atom)\n",
    "        self.mol = Mol(atom_data)\n",
    "    \n",
    "    def gen_grp_by_per_atom(self, last_grp):\n",
    "        '''\n",
    "        last_grp is a list like [atom1_id, atom2_id, ...], atom_id is the atomid record in the pdbx file.\n",
    "        '''\n",
    "        # convert pdbx_file atomid to ParmEd atom.idx(start from 0)\n",
    "        _last_grp = [i-self.pdbx_start_idx for i in last_grp]\n",
    "#         print(_last_grp)\n",
    "        last_grp_incl_H_gener_atoms_idx = []\n",
    "        for idx in _last_grp:\n",
    "            last_grp_incl_H_gener_atoms_idx+=self.mol[idx].heavy_atom_and_H_parmed_idx\n",
    "        \n",
    "        last_grp_coords = []\n",
    "        for idx in last_grp_incl_H_gener_atoms_idx:\n",
    "            coord_array = np.array(self.mol[idx].pdbx_atom.coord)\n",
    "            last_grp_coords.append(coord_array)\n",
    "        last_grp_mass_coord = np.vstack(last_grp_coords).sum(axis=0)/len(last_grp_coords)\n",
    "        x1, y1, z1 = last_grp_mass_coord\n",
    "        unlast_grp_heavy_atom = []\n",
    "        for gener_atom in self.mol.data:\n",
    "            if gener_atom.parmed_atom.idx not in last_grp_incl_H_gener_atoms_idx and gener_atom.parmed_atom.element_name != 'H':\n",
    "                x2, y2, z2 = gener_atom.pdbx_atom.coord\n",
    "                gener_atom.ref_dist = calculate_distance(x1, y1, z1, x2, y2, z2)\n",
    "                unlast_grp_heavy_atom.append(gener_atom)\n",
    "        sorted_unlast_grp_heavy_atom = sorted(unlast_grp_heavy_atom, key=lambda _gener_atom: _gener_atom.ref_dist)\n",
    "        \n",
    "        _idx = 1\n",
    "        for heavy_atom in sorted_unlast_grp_heavy_atom:\n",
    "            self.group_dict[f'group{_idx}'] = heavy_atom.heavy_atom_and_H_pdbx_id\n",
    "            _idx+=1\n",
    "        self.group_dict[f'group{len(sorted_unlast_grp_heavy_atom)+1}'] = [i+self.pdbx_start_idx for i in last_grp_incl_H_gener_atoms_idx]\n",
    "        return self.group_dict\n",
    "    "
   ]
  },
  {
   "cell_type": "code",
   "execution_count": 46,
   "id": "397588dd",
   "metadata": {},
   "outputs": [],
   "source": [
    "top_file='lig.prmtop'\n",
    "xyz_file='lig.prmcrd'\n",
    "pdbx_file = 'mol.pdbx'\n",
    "a = Group_generator(top_file, xyz_file, pdbx_file)"
   ]
  },
  {
   "cell_type": "code",
   "execution_count": 47,
   "id": "f330cd0f",
   "metadata": {},
   "outputs": [
    {
     "data": {
      "text/plain": [
       "[5112]"
      ]
     },
     "execution_count": 47,
     "metadata": {},
     "output_type": "execute_result"
    }
   ],
   "source": [
    "a.mol[29].bonded_H_pdbx_id"
   ]
  },
  {
   "cell_type": "code",
   "execution_count": 48,
   "id": "4973984c",
   "metadata": {
    "scrolled": true
   },
   "outputs": [
    {
     "data": {
      "text/plain": [
       "{'group1': [5109],\n",
       " 'group2': [5113],\n",
       " 'group3': [5108],\n",
       " 'group4': [5107],\n",
       " 'group5': [5127],\n",
       " 'group6': [5116],\n",
       " 'group7': [5110],\n",
       " 'group8': [5117],\n",
       " 'group9': [5115, 5114],\n",
       " 'group10': [5093],\n",
       " 'group11': [5098],\n",
       " 'group12': [5128],\n",
       " 'group13': [5129],\n",
       " 'group14': [5118],\n",
       " 'group15': [5104, 5105, 5100],\n",
       " 'group16': [5092, 5091],\n",
       " 'group17': [5106, 5099],\n",
       " 'group18': [5095, 5094],\n",
       " 'group19': [5097, 5096],\n",
       " 'group20': [5124, 5125, 5126, 5123],\n",
       " 'group21': [5120, 5121, 5122, 5119],\n",
       " 'group22': [5102, 5103, 5101],\n",
       " 'group23': [5131, 5132, 5133, 5130],\n",
       " 'group24': [5090],\n",
       " 'group25': [5084, 5083],\n",
       " 'group26': [5089, 5088],\n",
       " 'group27': [5082],\n",
       " 'group28': [5087],\n",
       " 'group29': [5086, 5085],\n",
       " 'group30': [5112, 5111]}"
      ]
     },
     "execution_count": 48,
     "metadata": {},
     "output_type": "execute_result"
    }
   ],
   "source": [
    "a.gen_grp_by_per_atom([5111,])"
   ]
  },
  {
   "cell_type": "code",
   "execution_count": 50,
   "id": "beb23d69",
   "metadata": {},
   "outputs": [],
   "source": [
    "\n",
    "from optparse import OptionParser\n",
    "\n",
    "class optParser():\n",
    "    def __init__(self, fakeArgs):\n",
    "        parser = OptionParser()\n",
    "        parser.add_option('-p', '--top', dest='top', help='The name of the topology file.', default='lig.prmtop')\n",
    "        parser.add_option('-c', '--crd', dest='crd', help='The name of the coordinate file.', default='lig.prmcrd')\n",
    "        parser.add_option('-x', '--pdbx', dest='pdbx', help='The name of the pdbx file.', default='ini_lig.pdbx')\n",
    "        parser.add_option('-l', '--last_grp_atom', dest='last_grp_atom', help='The list of the last_grp_atom.', )\n",
    "\n",
    "        if fakeArgs:\n",
    "            self.option, self.args = parser.parse_args(fakeArgs)\n",
    "        else:\n",
    "            self.option, self.args = parser.parse_args()"
   ]
  },
  {
   "cell_type": "code",
   "execution_count": 51,
   "id": "eeea4544",
   "metadata": {},
   "outputs": [],
   "source": [
    "opts = optParser('-p top -c crd -x pdbx -l [0,1,2]'.strip().split())"
   ]
  },
  {
   "cell_type": "code",
   "execution_count": 55,
   "id": "cb92f202",
   "metadata": {},
   "outputs": [
    {
     "data": {
      "text/plain": [
       "True"
      ]
     },
     "execution_count": 55,
     "metadata": {},
     "output_type": "execute_result"
    }
   ],
   "source": [
    "eval('True')"
   ]
  },
  {
   "cell_type": "code",
   "execution_count": null,
   "id": "32873211",
   "metadata": {},
   "outputs": [],
   "source": []
  }
 ],
 "metadata": {
  "kernelspec": {
   "display_name": "openmm-plumed",
   "language": "python",
   "name": "openmm-plumed"
  },
  "language_info": {
   "codemirror_mode": {
    "name": "ipython",
    "version": 3
   },
   "file_extension": ".py",
   "mimetype": "text/x-python",
   "name": "python",
   "nbconvert_exporter": "python",
   "pygments_lexer": "ipython3",
   "version": "3.9.13"
  }
 },
 "nbformat": 4,
 "nbformat_minor": 5
}
